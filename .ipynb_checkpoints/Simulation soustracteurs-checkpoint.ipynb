{
 "cells": [
  {
   "cell_type": "markdown",
   "id": "992ad0d8",
   "metadata": {},
   "source": [
    "<img style=\"float: right;width: 100px\" src=\"https://www.enib.fr/images/logo-enib-accueil.jpg\">\n",
    "\n",
    "<div>\n",
    "    <p><h3>Projet Electronique S9: Synthétiseur</h3></p>\n",
    "    <p><span class=\"badge badge-danger\" style=\"background-color:#dc3545\">PRE</span> <span class=\"badge badge-info\">2022</span></p>\n",
    "</div>\n",
    "\n",
    "<div style=\"text-align: center;padding-bottom:20px;padding-top:10px\">\n",
    "        <h1>Prototypage de signaux</h1>\n",
    "    <h2>Synthèse soustractive</h2>\n",
    "</div>"
   ]
  },
  {
   "cell_type": "code",
   "execution_count": 1,
   "id": "f4b4d18b",
   "metadata": {},
   "outputs": [],
   "source": [
    "from numpy import *\n",
    "import plotly.express as px\n",
    "from scipy.signal import resample\n",
    "from scipy import signal\n",
    "from matplotlib.pyplot import *\n",
    "from IPython.display import Audio\n",
    "from ipywidgets import interact\n",
    "from numpy.fft import *\n",
    "from math import *"
   ]
  },
  {
   "cell_type": "markdown",
   "id": "29c8ca08",
   "metadata": {},
   "source": [
    "### Fréquence d'échantillonage domaine sonore"
   ]
  },
  {
   "cell_type": "code",
   "execution_count": 2,
   "id": "0d691f0a",
   "metadata": {},
   "outputs": [],
   "source": [
    "Fe = 44100 #Ve en Hz pour le dommaine sonore\n",
    "t = np.arange(0,2,1/Fe)# durée de 2s à la fréquence Ve\n",
    "\n",
    "#Amplitude, écart type et fondamental des signaux\n",
    "A = 5 #A=(1,10,1)\n",
    "theta = 0 #theta=(1,20,1)\n",
    "f0 = 200 #f0=(0,20000,500)\n",
    "fmax = f0"
   ]
  },
  {
   "cell_type": "markdown",
   "id": "f0adf71c",
   "metadata": {},
   "source": [
    "## Calcul de Transformée de Fourrier Discrète"
   ]
  },
  {
   "cell_type": "code",
   "execution_count": 3,
   "id": "ebe7b60d",
   "metadata": {},
   "outputs": [],
   "source": [
    "def fftcalc(x):\n",
    "    #calcul de la transformée de Fourrier discrète\n",
    "    echantillons = x\n",
    "    tfd = fft(echantillons)\n",
    "    N = len(echantillons)\n",
    "    spectre = np.absolute(tfd)**(2)/N\n",
    "    freq = np.fft.fftfreq(len(spectre),1/Fe)\n",
    "    fig2 = figure(figsize=(10,4))\n",
    "    xlim([-2000,2000])\n",
    "    plot(freq,spectre,'r')\n",
    "    #xlabel('f')#ylabel('A')axis([-0.1,fe,0,spectre.max()])\n",
    "    grid()\n",
    "    fig2.show"
   ]
  },
  {
   "cell_type": "markdown",
   "id": "79090bcf",
   "metadata": {},
   "source": [
    "## Filtre paramétrique"
   ]
  },
  {
   "cell_type": "code",
   "execution_count": 4,
   "id": "0a4f280a",
   "metadata": {},
   "outputs": [],
   "source": [
    "def paramFilter(x,fc,Q): # x signal en entrée échantillonné, fc en Hz,Q=1/2*m, avec m [0;1]\n",
    "    #init filter\n",
    "    f1 = 2*np.sin((np.pi*fc)/Fe)\n",
    "    f2 = 1/Q \n",
    "    \n",
    "    yh = np.arange(0,2,1/Fe)\n",
    "    yb = np.arange(0,2,1/Fe)\n",
    "    yl = np.arange(0,2,1/Fe)\n",
    "    \n",
    "    N = len(x)\n",
    "    yh[0] = x[0] #init high pass\n",
    "    yb[0] = f1*yh[0] #init band pass\n",
    "    yl[0] = f1*yb[0] #init low pass\n",
    "    \n",
    "    for i in range(1, N):\n",
    "        yh[i] = x[i] - yl[i-1] - f2*yb[i-1]\n",
    "        yb[i] = f1*yh[i] + yb[i-1]\n",
    "        yl[i] = f1*yb[i] + yl[i-1]\n",
    "        i = i+1\n",
    "    print(\"Filtre paramétrique: \", \"yh=\", yh, \" yb=\", yb, \" yl=\", yl)\n",
    "    return yl\n",
    "\n"
   ]
  },
  {
   "cell_type": "markdown",
   "id": "af98e3bd",
   "metadata": {},
   "source": [
    "# Signaux étudiés"
   ]
  },
  {
   "cell_type": "markdown",
   "id": "42d487ca",
   "metadata": {},
   "source": [
    "## Signal sinusoïdal"
   ]
  },
  {
   "cell_type": "markdown",
   "id": "ea654bd1",
   "metadata": {},
   "source": [
    "* Signal sinusoidal $x(t)$ de fréquence f0 synthetisé à la fréquence d'échantillonnage $\\nu_e$."
   ]
  },
  {
   "cell_type": "code",
   "execution_count": 5,
   "id": "3bbea35a",
   "metadata": {},
   "outputs": [
    {
     "ename": "TypeError",
     "evalue": "only size-1 arrays can be converted to Python scalars",
     "output_type": "error",
     "traceback": [
      "\u001b[1;31m---------------------------------------------------------------------------\u001b[0m",
      "\u001b[1;31mTypeError\u001b[0m                                 Traceback (most recent call last)",
      "\u001b[1;32m~\\AppData\\Local\\Temp/ipykernel_17472/549206173.py\u001b[0m in \u001b[0;36m<module>\u001b[1;34m\u001b[0m\n\u001b[0;32m     17\u001b[0m \u001b[1;33m\u001b[0m\u001b[0m\n\u001b[0;32m     18\u001b[0m \u001b[1;33m\u001b[0m\u001b[0m\n\u001b[1;32m---> 19\u001b[1;33m \u001b[0msignal_sin\u001b[0m\u001b[1;33m=\u001b[0m\u001b[0msinw\u001b[0m\u001b[1;33m(\u001b[0m\u001b[0mA\u001b[0m\u001b[1;33m,\u001b[0m\u001b[0mtheta\u001b[0m\u001b[1;33m,\u001b[0m\u001b[0mf0\u001b[0m\u001b[1;33m)\u001b[0m\u001b[1;33m\u001b[0m\u001b[1;33m\u001b[0m\u001b[0m\n\u001b[0m\u001b[0;32m     20\u001b[0m \u001b[0msignal_sin_plot\u001b[0m\u001b[1;33m=\u001b[0m\u001b[0mgraphSig\u001b[0m\u001b[1;33m(\u001b[0m\u001b[0mt\u001b[0m\u001b[1;33m,\u001b[0m\u001b[0msignal_sin\u001b[0m\u001b[1;33m)\u001b[0m\u001b[1;33m\u001b[0m\u001b[1;33m\u001b[0m\u001b[0m\n\u001b[0;32m     21\u001b[0m \u001b[0msignal_fft\u001b[0m\u001b[1;33m=\u001b[0m\u001b[0mfftcalc\u001b[0m\u001b[1;33m(\u001b[0m\u001b[0msignal_sin\u001b[0m\u001b[1;33m)\u001b[0m\u001b[1;33m\u001b[0m\u001b[1;33m\u001b[0m\u001b[0m\n",
      "\u001b[1;32m~\\AppData\\Local\\Temp/ipykernel_17472/549206173.py\u001b[0m in \u001b[0;36msinw\u001b[1;34m(A, theta, f0)\u001b[0m\n\u001b[0;32m      1\u001b[0m \u001b[1;32mdef\u001b[0m \u001b[0msinw\u001b[0m\u001b[1;33m(\u001b[0m\u001b[0mA\u001b[0m\u001b[1;33m,\u001b[0m\u001b[0mtheta\u001b[0m\u001b[1;33m,\u001b[0m\u001b[0mf0\u001b[0m\u001b[1;33m)\u001b[0m\u001b[1;33m:\u001b[0m\u001b[1;33m\u001b[0m\u001b[1;33m\u001b[0m\u001b[0m\n\u001b[0;32m      2\u001b[0m     \u001b[1;31m#pour voir le signal en temporel\u001b[0m\u001b[1;33m\u001b[0m\u001b[1;33m\u001b[0m\u001b[0m\n\u001b[1;32m----> 3\u001b[1;33m     \u001b[0mx1\u001b[0m \u001b[1;33m=\u001b[0m \u001b[0mA\u001b[0m\u001b[1;33m*\u001b[0m\u001b[0msin\u001b[0m\u001b[1;33m(\u001b[0m\u001b[1;36m2\u001b[0m\u001b[1;33m*\u001b[0m\u001b[0mnp\u001b[0m\u001b[1;33m.\u001b[0m\u001b[0mpi\u001b[0m\u001b[1;33m*\u001b[0m\u001b[0mf0\u001b[0m\u001b[1;33m*\u001b[0m\u001b[0mt\u001b[0m\u001b[1;33m-\u001b[0m\u001b[0mtheta\u001b[0m\u001b[1;33m)\u001b[0m\u001b[1;33m\u001b[0m\u001b[1;33m\u001b[0m\u001b[0m\n\u001b[0m\u001b[0;32m      4\u001b[0m     \u001b[1;32mreturn\u001b[0m \u001b[0mx1\u001b[0m\u001b[1;33m\u001b[0m\u001b[1;33m\u001b[0m\u001b[0m\n\u001b[0;32m      5\u001b[0m \u001b[1;33m\u001b[0m\u001b[0m\n",
      "\u001b[1;31mTypeError\u001b[0m: only size-1 arrays can be converted to Python scalars"
     ]
    }
   ],
   "source": [
    "def sinw(A,theta,f0):\n",
    "    #pour voir le signal en temporel\n",
    "    x1 = A*sin(2*np.pi*f0*t-theta)\n",
    "    return x1\n",
    "\n",
    "def graphSig(t,x):\n",
    "    figure(0)\n",
    "    fig0=plot(t,x,label=\"coucou\")\n",
    "    fig0=px.line(t,x,labels={'x':'t', 'y':'s(t)'})\n",
    "    xlim([0,0.01])\n",
    "    fig0.show\n",
    "\n",
    "def audioSin(A1, theta1,f01):\n",
    "    x1 = A1*sin(2*np.pi*f01*t-theta1)\n",
    "    audio=Audio(x1,rate=Fe)\n",
    "    return audio\n",
    "    \n",
    "\n",
    "signal_sin=sinw(A,theta,f0)\n",
    "signal_sin_plot=graphSig(t,signal_sin)\n",
    "signal_fft=fftcalc(signal_sin)\n",
    "audioSin(A, theta,f0)"
   ]
  },
  {
   "cell_type": "markdown",
   "id": "a238e931",
   "metadata": {},
   "source": [
    "# Signaux dent de scie et carré en utilisant la bibliothèque signal"
   ]
  },
  {
   "cell_type": "markdown",
   "id": "8aebc0de",
   "metadata": {},
   "source": [
    "Pour vérifier que lors de l'implémentation des signaux sans bibliothèque nos résultats sont concordants. "
   ]
  },
  {
   "cell_type": "markdown",
   "id": "320a23df",
   "metadata": {},
   "source": [
    "## Signal dent de scie"
   ]
  },
  {
   "cell_type": "markdown",
   "id": "d248b58d",
   "metadata": {},
   "source": [
    "* Signal dent de scie $ds(t)$ de fréquence f0 synthetisé à la fréquence d'échantillonnage $\\nu_e$."
   ]
  },
  {
   "cell_type": "code",
   "execution_count": null,
   "id": "e99e9201",
   "metadata": {},
   "outputs": [],
   "source": [
    "def sawTooth(A,theta,f0):\n",
    "    ds=A*signal.sawtooth(2 * np.pi * (f0) * t -theta)\n",
    "    return ds\n",
    "\n",
    "def graphSig2(t,x):\n",
    "    figure(1)\n",
    "    fig0=plot(t,x,label=\"coucou\")\n",
    "    fig0=px.line(t,x,labels={'x':'t', 'y':'s(t)'})\n",
    "    xlim([0,0.01])\n",
    "    fig0.show\n",
    "\n",
    "def audioTooth(A,theta,f0):\n",
    "    ds2=A*signal.sawtooth(2 * np.pi * (f0) * t-theta)\n",
    "    audiotooth = Audio(ds2,rate=Fe)\n",
    "    return audiotooth\n",
    "\n",
    "signal_tooth = sawTooth(A,theta,f0)\n",
    "signal_tooth_plot = graphSig2(t,signal_tooth)\n",
    "signal_tooth_fft = fftcalc(signal_tooth)\n",
    "filtered_tooth = paramFilter(signal_tooth,700,4)\n",
    "fft_filtered = fftcalc(filtered_tooth)\n",
    "audioTooth(A, theta,f0)"
   ]
  },
  {
   "cell_type": "code",
   "execution_count": null,
   "id": "f4ccdd7d",
   "metadata": {},
   "outputs": [],
   "source": [
    "def audioToothFiltered(sig):\n",
    "    audiotooth=Audio(sig,rate=Fe)\n",
    "    return audiotooth\n",
    "audioToothFiltered(filtered_tooth)"
   ]
  },
  {
   "cell_type": "markdown",
   "id": "3e47cad9",
   "metadata": {},
   "source": [
    "## Signal carré"
   ]
  },
  {
   "cell_type": "markdown",
   "id": "1d4cc3be",
   "metadata": {},
   "source": [
    "* Signal carré $sq(t)$ de fréquence f0 synthetisé à la fréquence d'échantillonnage $\\nu_e$."
   ]
  },
  {
   "cell_type": "code",
   "execution_count": null,
   "id": "d4a9eff6",
   "metadata": {},
   "outputs": [],
   "source": [
    "def square(A,theta,f0):\n",
    "    sq=A*signal.square(2 * np.pi * (f0) * t-theta)\n",
    "    return sq\n",
    "\n",
    "def graphSig3(t,x):\n",
    "    figure(2)\n",
    "    fig0=plot(t,x,label=\"coucou\")\n",
    "    fig0=px.line(t,x,labels={'x':'t', 'y':'s(t)'})\n",
    "    xlim([0,0.01])\n",
    "    fig0.show\n",
    "\n",
    "def audioSquare(A,theta,f0):\n",
    "    sq2=A*signal.square(2 * np.pi * (f0) * t-theta)\n",
    "    audiosquare=Audio(sq2,rate=Fe)\n",
    "    return audiosquare\n",
    "\n",
    "signal_square=square(A,theta,f0)\n",
    "signal_square_plot=graphSig3(t,signal_square)\n",
    "signal_square_fft=fftcalc(signal_square)\n",
    "filtered_square = paramFilter(signal_square,700,4)\n",
    "square_fft_filtered=fftcalc(filtered_square)\n",
    "audioSquare(A, theta,f0)"
   ]
  },
  {
   "cell_type": "code",
   "execution_count": null,
   "id": "f84dce77",
   "metadata": {},
   "outputs": [],
   "source": [
    "audioToothFiltered(filtered_square)"
   ]
  },
  {
   "cell_type": "markdown",
   "id": "d263da4a",
   "metadata": {},
   "source": [
    "# Signaux dent de scie et carré sans bibliothèque"
   ]
  },
  {
   "cell_type": "markdown",
   "id": "ea0a47b2",
   "metadata": {},
   "source": [
    "Implémenter ces signaux sans librairies dans le but de comprendre leur fonctionnement et de les implémenter en C"
   ]
  },
  {
   "cell_type": "markdown",
   "id": "4e1e9db8",
   "metadata": {},
   "source": [
    "## Signal dent de scie"
   ]
  },
  {
   "cell_type": "code",
   "execution_count": null,
   "id": "fcbe1abb",
   "metadata": {},
   "outputs": [],
   "source": [
    "def dentScie(A,theta,f0):\n",
    "    ds=0\n",
    "    sawt=0\n",
    "    for k in range(1,fmax):\n",
    "        ds=A*(2/np.pi)*((-1)**(k+1))*(np.sin(2*np.pi*k*f0*t-theta)/k)\n",
    "        k=k+1\n",
    "        sawt=sawt+ds\n",
    "    return sawt\n",
    "\n",
    "def graphSig4(t,x):\n",
    "    figure(4)\n",
    "    fig0=plot(t,x,label=\"coucou\")\n",
    "    fig0=px.line(t,x,labels={'x':'t', 'y':'s(t)'})\n",
    "    xlim([0,0.01])\n",
    "    fig0.show\n",
    "    \n",
    "def audioScie(A,theta,f0):\n",
    "    ds=0\n",
    "    sawt=0\n",
    "    for k in range(1,1000):\n",
    "        ds=A*(2/np.pi)*((-1)**(k+1))*(np.sin(2*np.pi*k*f0*t-theta)/k)\n",
    "        k=k+1\n",
    "        sawt=sawt+ds\n",
    "    audioTooth2=Audio(sawt,rate=Fe)\n",
    "    return audioTooth2\n",
    "    \n",
    "signal_scie = dentScie(A,theta,f0)\n",
    "signal_scie_plot=graphSig4(t,signal_scie)\n",
    "signal_scie_fft=fftcalc(signal_scie)\n",
    "\n",
    "audioScie(A,theta,f0)"
   ]
  },
  {
   "cell_type": "markdown",
   "id": "998c1468",
   "metadata": {},
   "source": [
    "## Signal carré"
   ]
  },
  {
   "cell_type": "code",
   "execution_count": null,
   "id": "47960cd9",
   "metadata": {},
   "outputs": [],
   "source": [
    "def carre(A,theta,f0):\n",
    "    sq=0\n",
    "    carr=0\n",
    "    for k in range(1,1000):\n",
    "        sq=A*(4/np.pi)*(np.sin((2*k-1)*2*np.pi*f0*t-theta)/(2*k-1))\n",
    "        k=k+1\n",
    "        carr=carr+sq\n",
    "    return carr\n",
    "\n",
    "def graphSig5(t,x):\n",
    "    figure(5)\n",
    "    fig0=plot(t,x,label=\"coucou\")\n",
    "    fig0=px.line(t,x,labels={'x':'t', 'y':'s(t)'})\n",
    "    xlim([0,0.001])\n",
    "    fig0.show\n",
    "\n",
    "def audioCarre(A,theta,f0):\n",
    "    sq=0\n",
    "    carr=0\n",
    "    for k in range(1,1000):\n",
    "        sq=A*(4/np.pi)*(np.sin((2*k-1)*2*np.pi*f0*t-theta)/(2*k-1))\n",
    "        k=k+1\n",
    "        carr=carr+sq\n",
    "    audioCarr=Audio(carr,rate=Fe)\n",
    "    return audioCarr\n",
    "    \n",
    "signal_carre = carre(A,theta,f0)\n",
    "signal_carre_plot=graphSig5(t,signal_carre)\n",
    "signal_carre_fft=fftcalc(signal_carre)\n",
    "\n",
    "audioCarre(A,theta,f0)"
   ]
  },
  {
   "cell_type": "markdown",
   "id": "95c8f7e1",
   "metadata": {},
   "source": [
    "## Tests"
   ]
  },
  {
   "cell_type": "markdown",
   "id": "55e2101c",
   "metadata": {},
   "source": [
    "## calcul de coef pour filtre de Butterworth"
   ]
  },
  {
   "cell_type": "code",
   "execution_count": null,
   "id": "712cb3a2",
   "metadata": {},
   "outputs": [],
   "source": [
    "def nButter(amax,aMin,fmax,fMin):\n",
    "    TMin=10**(-aMin/20)\n",
    "    Tmax=10**(-amax/20)\n",
    "    epsilon= math.sqrt((1/(TMin**2))-1)\n",
    "    nb=math.log((1/Tmax**2)-1/(epsilon)**2)/2*math.log(fmax/fMin)\n",
    "    return nb\n",
    "\n",
    "objet= nButter(70,0.5,30,10)\n",
    "print(objet)\n",
    "\n",
    "objet2= nButter(70,0.5,10,5)\n",
    "print(objet2)\n",
    "    "
   ]
  },
  {
   "cell_type": "markdown",
   "id": "3081e5cc",
   "metadata": {},
   "source": [
    "## dent de scie non sommée"
   ]
  },
  {
   "cell_type": "code",
   "execution_count": 6,
   "id": "e28f5444",
   "metadata": {},
   "outputs": [
    {
     "name": "stdout",
     "output_type": "stream",
     "text": [
      "[0.00000000e+00 2.26757370e-05 4.53514739e-05 ... 1.99993197e+00\n",
      " 1.99995465e+00 1.99997732e+00]\n"
     ]
    },
    {
     "ename": "NameError",
     "evalue": "name 'p' is not defined",
     "output_type": "error",
     "traceback": [
      "\u001b[1;31m---------------------------------------------------------------------------\u001b[0m",
      "\u001b[1;31mNameError\u001b[0m                                 Traceback (most recent call last)",
      "\u001b[1;32m~\\AppData\\Local\\Temp/ipykernel_17472/1702585974.py\u001b[0m in \u001b[0;36m<module>\u001b[1;34m\u001b[0m\n\u001b[0;32m     16\u001b[0m \u001b[0mprint\u001b[0m\u001b[1;33m(\u001b[0m\u001b[0mt\u001b[0m\u001b[1;33m)\u001b[0m\u001b[1;33m\u001b[0m\u001b[1;33m\u001b[0m\u001b[0m\n\u001b[0;32m     17\u001b[0m \u001b[1;33m\u001b[0m\u001b[0m\n\u001b[1;32m---> 18\u001b[1;33m \u001b[0msig\u001b[0m \u001b[1;33m=\u001b[0m \u001b[0msawtooth3\u001b[0m\u001b[1;33m(\u001b[0m\u001b[0mt2\u001b[0m\u001b[1;33m,\u001b[0m \u001b[0mp\u001b[0m\u001b[1;33m)\u001b[0m\u001b[1;33m\u001b[0m\u001b[1;33m\u001b[0m\u001b[0m\n\u001b[0m\u001b[0;32m     19\u001b[0m \u001b[0mtest\u001b[0m \u001b[1;33m=\u001b[0m \u001b[0mgraphSig5\u001b[0m\u001b[1;33m(\u001b[0m\u001b[0mt2\u001b[0m\u001b[1;33m,\u001b[0m\u001b[0msig\u001b[0m\u001b[1;33m)\u001b[0m\u001b[1;33m\u001b[0m\u001b[1;33m\u001b[0m\u001b[0m\n\u001b[0;32m     20\u001b[0m \u001b[0mprint\u001b[0m\u001b[1;33m(\u001b[0m\u001b[0mlen\u001b[0m\u001b[1;33m(\u001b[0m\u001b[0mt\u001b[0m\u001b[1;33m)\u001b[0m\u001b[1;33m)\u001b[0m\u001b[1;33m\u001b[0m\u001b[1;33m\u001b[0m\u001b[0m\n",
      "\u001b[1;31mNameError\u001b[0m: name 'p' is not defined"
     ]
    }
   ],
   "source": [
    "t2 = np.arange(-1,1,1/Fe)\n",
    "\n",
    "def sawtooth3(t):\n",
    "    x1 = (1/2)+(t*f0)\n",
    "    x2 = np.vectorize(x1)\n",
    "    x = 2*((t*f0)-floor(t3))\n",
    "    return x\n",
    "\n",
    "def graphSig5(t,x):\n",
    "    figure(5)\n",
    "    fig0=plot(t,x,label=\"coucou\")\n",
    "    fig0=px.line(t,x,labels={'x':'t', 'y':'s(t)'})\n",
    "    xlim([0,0.01])\n",
    "    fig0.show\n",
    "    \n",
    "print(t)\n",
    "\n",
    "sig = sawtooth3(t2, p)\n",
    "test = graphSig5(t2,sig)\n",
    "print(len(t))"
   ]
  },
  {
   "cell_type": "code",
   "execution_count": null,
   "id": "a2eac5f4",
   "metadata": {},
   "outputs": [],
   "source": []
  }
 ],
 "metadata": {
  "kernelspec": {
   "display_name": "Python 3 (ipykernel)",
   "language": "python",
   "name": "python3"
  },
  "language_info": {
   "codemirror_mode": {
    "name": "ipython",
    "version": 3
   },
   "file_extension": ".py",
   "mimetype": "text/x-python",
   "name": "python",
   "nbconvert_exporter": "python",
   "pygments_lexer": "ipython3",
   "version": "3.9.7"
  }
 },
 "nbformat": 4,
 "nbformat_minor": 5
}
